{
 "cells": [
  {
   "cell_type": "code",
   "execution_count": 4,
   "id": "105d2751",
   "metadata": {},
   "outputs": [],
   "source": [
    "import numpy as np\n",
    "import matplotlib.pyplot as plt\n",
    "import pandas as pd\n"
   ]
  },
  {
   "cell_type": "code",
   "execution_count": 7,
   "id": "abafa0d3",
   "metadata": {},
   "outputs": [
    {
     "name": "stdout",
     "output_type": "stream",
     "text": [
      "0    1\n",
      "1    2\n",
      "2    3\n",
      "3    4\n",
      "4    5\n",
      "dtype: int64\n"
     ]
    }
   ],
   "source": [
    "pd.series = pd.Series([1, 2, 3, 4, 5])\n",
    "print(pd.series)"
   ]
  },
  {
   "cell_type": "code",
   "execution_count": 11,
   "id": "3998229f",
   "metadata": {},
   "outputs": [],
   "source": [
    "bike = pd.read_csv(\"C:\\\\Users\\\\woled\\\\Downloads\\\\pro\\\\Insights into Bicycle Theft using Visualization\\\\workspace\\\\data\\\\Cleaned_Bicycle_Thefts_Open_Data.csv\")"
   ]
  },
  {
   "cell_type": "code",
   "execution_count": 12,
   "id": "0c3ed565",
   "metadata": {},
   "outputs": [
    {
     "name": "stdout",
     "output_type": "stream",
     "text": [
      "         date     quarter  ...       long        lat\n",
      "0  2014-01-01  2014-01-01  ... -79.377202  43.633880\n",
      "1  2014-01-03  2014-01-01  ... -79.427683  43.691370\n",
      "2  2014-01-04  2014-01-01  ... -79.379017  43.659649\n",
      "3  2014-01-04  2014-01-01  ... -79.366072  43.703797\n",
      "4  2014-01-07  2014-01-01  ... -79.335651  43.649292\n",
      "\n",
      "[5 rows x 8 columns]\n",
      "<class 'pandas.core.frame.DataFrame'>\n",
      "RangeIndex: 31833 entries, 0 to 31832\n",
      "Data columns (total 8 columns):\n",
      " #   Column        Non-Null Count  Dtype  \n",
      "---  ------        --------------  -----  \n",
      " 0   date          31833 non-null  object \n",
      " 1   quarter       31833 non-null  object \n",
      " 2   day_of_week   31833 non-null  object \n",
      " 3   neighborhood  31833 non-null  object \n",
      " 4   bike_cost     31833 non-null  float64\n",
      " 5   location      31833 non-null  object \n",
      " 6   long          31833 non-null  float64\n",
      " 7   lat           31833 non-null  float64\n",
      "dtypes: float64(3), object(5)\n",
      "memory usage: 1.9+ MB\n",
      "None\n",
      "           bike_cost          long           lat\n",
      "count   31833.000000  31833.000000  31833.000000\n",
      "mean      994.349726    -79.394411     43.672556\n",
      "std      1625.903293      0.058580      0.039977\n",
      "min         0.000000    -79.596356     43.592362\n",
      "25%       385.000000    -79.418409     43.650176\n",
      "50%       650.000000    -79.385721     43.659649\n",
      "75%      1120.000000    -79.377202     43.682820\n",
      "max    120000.000000    -79.150843     43.821201\n"
     ]
    }
   ],
   "source": [
    "print(bike.head())\n",
    "print(bike.info())\n",
    "print(bike.describe())"
   ]
  }
 ],
 "metadata": {
  "kernelspec": {
   "display_name": "base",
   "language": "python",
   "name": "python3"
  },
  "language_info": {
   "name": "python",
   "version": "3.12.7"
  }
 },
 "nbformat": 4,
 "nbformat_minor": 5
}
